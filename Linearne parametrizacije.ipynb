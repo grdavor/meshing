{
 "cells": [
  {
   "cell_type": "markdown",
   "metadata": {},
   "source": [
    "# Algoritmi linearnih parametrizacije 3D modela"
   ]
  },
  {
   "cell_type": "markdown",
   "metadata": {},
   "source": [
    "Koristimo python pakete libigl, numpy, scipy, te meshplot:"
   ]
  },
  {
   "cell_type": "code",
   "execution_count": 1,
   "metadata": {},
   "outputs": [],
   "source": [
    "import igl\n",
    "import scipy as sp\n",
    "import numpy as np\n",
    "from meshplot import plot, subplot, interact\n",
    "\n",
    "import scipy.spatial\n",
    "from scipy.linalg import block_diag\n",
    "from scipy.sparse import issparse\n",
    "import scipy.sparse.linalg as sla\n",
    "from scipy.sparse import csc_matrix\n",
    "\n",
    "\n",
    "import scipy.linalg as la\n",
    "\n",
    "import os\n",
    "root_folder = os.getcwd()"
   ]
  },
  {
   "cell_type": "markdown",
   "metadata": {},
   "source": [
    "Loadamo mrežu koju želimo parametrizirati:"
   ]
  },
  {
   "cell_type": "code",
   "execution_count": 2,
   "metadata": {},
   "outputs": [],
   "source": [
    "V, F  = igl.read_triangle_mesh(os.path.join(root_folder, \"camelhead.off\"))"
   ]
  },
  {
   "cell_type": "markdown",
   "metadata": {},
   "source": [
    "## Harmonijsko preslikavanje"
   ]
  },
  {
   "cell_type": "code",
   "execution_count": 4,
   "metadata": {},
   "outputs": [],
   "source": [
    "    b = igl.boundary_loop(F)\n",
    "\n",
    "    bc = igl.map_vertices_to_circle(V,b)\n",
    "\n",
    "    L = igl.cotmatrix(V,F)\n",
    "\n",
    "    Q = -L\n",
    "    \n",
    "    B=np.zeros((V.shape[0],2))\n",
    "    Aeq = sp.sparse.csc_matrix(np.zeros((1,V.shape[0])))\n",
    "    Beq = np.zeros((1,2))\n",
    "    \n",
    "    _, Harmonic_uv=igl.min_quad_with_fixed(Q, B, b, bc, Aeq, Beq, False)\n"
   ]
  },
  {
   "cell_type": "markdown",
   "metadata": {},
   "source": [
    "## Baricentrično konveksno preslikavanje"
   ]
  },
  {
   "cell_type": "code",
   "execution_count": 30,
   "metadata": {},
   "outputs": [
    {
     "name": "stderr",
     "output_type": "stream",
     "text": [
      "C:\\Users\\Davorin\\anaconda3\\lib\\site-packages\\scipy\\sparse\\linalg\\dsolve\\linsolve.py:138: SparseEfficiencyWarning: spsolve requires A be CSC or CSR matrix format\n",
      "  SparseEfficiencyWarning)\n"
     ]
    }
   ],
   "source": [
    "    \n",
    "    # Find boundary vertices\n",
    "    b = igl.boundary_loop(F)\n",
    "    # Map them to circle\n",
    "    bc = igl.map_vertices_to_circle(V,b)\n",
    "    \n",
    "    # List interior & boundary vertices\n",
    "    e = igl.boundary_facets(F)\n",
    "    v_b = np.unique(e)\n",
    "    v_all = np.arange(V.shape[0])\n",
    "\n",
    "    # List of interior indices\n",
    "    v_in = np.setdiff1d(v_all, b)\n",
    "\n",
    "    # Adjacency matrix for given mesh\n",
    "    a = igl.adjacency_matrix(F)\n",
    "    # Sum each row to get diagonal\n",
    "    a_sum = np.sum(a, axis=1)\n",
    "    a_sumsum = np.array(a_sum).ravel()\n",
    "    # Convert row sums into diagonal of sparse matrix\n",
    "    a_diag = np.diag(a_sumsum)\n",
    "    # Build uniform laplacian of graph\n",
    "    u = a - a_diag\n",
    "    \n",
    "    # Prepare system matrix\n",
    "    l_ii = u[v_in, :]\n",
    "    l_ii = l_ii[:, v_in]\n",
    "    l_ib = u[v_in, :]\n",
    "    l_ib = l_ib[:, b]\n",
    "    \n",
    "    ## Solve PDE\n",
    "    xs = sla.spsolve(-l_ii, np.transpose(l_ib.dot(bc[:,0])))\n",
    "    ys = sla.spsolve(-l_ii, np.transpose(l_ib.dot(bc[:,1])))\n",
    "    uv= np.column_stack((xs,ys))\n",
    "    \n",
    "    # Write vertices in correct order\n",
    "    Barycentric_uv= np.zeros((V.shape[0],2))\n",
    "    Barycentric_uv[v_in, :] = uv\n",
    "    Barycentric_uv[b, :] = bc"
   ]
  },
  {
   "cell_type": "markdown",
   "metadata": {},
   "source": [
    "## Konveksno preslikavanje srednje vrijednosti"
   ]
  },
  {
   "cell_type": "code",
   "execution_count": 35,
   "metadata": {},
   "outputs": [],
   "source": [
    "    # Find boundary vertices\n",
    "    b = igl.boundary_loop(F)\n",
    "    # Map them to circle\n",
    "    bc = igl.map_vertices_to_circle(V,b)\n",
    "    \n",
    "    # List interior & boundary vertices\n",
    "    e = igl.boundary_facets(F)\n",
    "    v_b = np.unique(e)\n",
    "    v_all = np.arange(V.shape[0])\n",
    "\n",
    "    # List of interior indices\n",
    "    v_in = np.setdiff1d(v_all, b)\n",
    "    \n",
    "    # Find distance between all points in the mesh\n",
    "    distances = igl.all_pairs_distances(V,V, False)\n",
    "    # Find angle values for each triangle in a mesh\n",
    "    angles = igl.internal_angles(V,F)\n",
    "    \n",
    "    # Prob not needed\n",
    "    tt, tti = igl.triangle_triangle_adjacency(F)\n",
    "    neighbours = igl.adjacency_matrix(F)\n",
    "    \n",
    "    # Create edge topology, edges-vertices, faces-edges, edges-faces:\n",
    "    ev, fe, ef = igl.edge_topology(V,F)\n",
    "    \n",
    "    # Initialize system matrix\n",
    "    weights = np.zeros((V.shape[0],V.shape[0]))\n",
    "    \n",
    "    # For given list of triangles and a vertex, find edges opposite vertex v\n",
    "    def find_edges(triangles, vertex, ev):\n",
    "        target_edges = []\n",
    "        for triangle in triangles:\n",
    "            for edge in triangle:\n",
    "                if vertex not in ev[edge]:\n",
    "                    target_edges = np.append(target_edges, edge)\n",
    "        return target_edges\n",
    "    \n",
    "    # Start building system matrix\n",
    "    for i in range(ev.shape[0]):\n",
    "        v_i, v_j = ev[i][0], ev[i][1]\n",
    "        if ((v_i not in b) or (v_j not in b)):\n",
    "            distance = distances[v_i,v_j]\n",
    "            # Triangles that belong to i-th edge: ef[i,:]\n",
    "            # All edges in those triangles:\n",
    "            all_edges = fe[ef[i,:],:]\n",
    "            # Angles inside those triangles\n",
    "            relevant_angles = angles[ef[i,:],]\n",
    "            # Of those edges, find the one that v_i doesn't belong to\n",
    "            #(the one opposite v_i)\n",
    "            relevant_edges_i = find_edges(all_edges, v_i, ev)\n",
    "            # Find the angles\n",
    "            alphas_i=relevant_angles[np.isin(all_edges,relevant_edges_i)]\n",
    "            # Add to system matrix\n",
    "            weights[v_i,v_j] = (np.tan(0.5*alphas_i[0])+np.tan(0.5*alphas_i[1]))/distance\n",
    "            # Do the same for edge in opposite direction\n",
    "            relevant_edges_j = find_edges(all_edges, v_j, ev)\n",
    "            alphas_j=relevant_angles[np.isin(all_edges,relevant_edges_j)]\n",
    "            weights[v_j,v_i] = (np.tan(0.5*alphas_j[0])+np.tan(0.5*alphas_j[1]))/distance\n",
    "    \n",
    "    # Add diagonal to system matrix\n",
    "    w_sum = np.sum(weights, axis=1)\n",
    "    w_sumsum = np.array(w_sum).ravel()\n",
    "    w_diag = np.diag(w_sumsum)\n",
    "    u = weights - w_diag\n",
    "    \n",
    "    # Prepare system matrix for efficient solve\n",
    "    l_ii = u[v_in, :]\n",
    "    l_ii = l_ii[:, v_in]\n",
    "    l_ib = u[v_in, :]\n",
    "    l_ib = l_ib[:, b]\n",
    "    \n",
    "    ## Solve PDE\n",
    "    xs = sla.spsolve(-l_ii, np.transpose(l_ib.dot(bc[:,0])))\n",
    "    ys = sla.spsolve(-l_ii, np.transpose(l_ib.dot(bc[:,1])))\n",
    "    uv= np.column_stack((xs,ys))\n",
    "    \n",
    "    # Write vertices in correct order\n",
    "    Convex_uv= np.zeros((V.shape[0],2))\n",
    "    Convex_uv[v_in, :] = uv\n",
    "    Convex_uv[b, :] = bc"
   ]
  },
  {
   "cell_type": "markdown",
   "metadata": {},
   "source": [
    "## Konformalno preslikavanje najmanjih kvadrata"
   ]
  },
  {
   "cell_type": "code",
   "execution_count": 78,
   "metadata": {},
   "outputs": [],
   "source": [
    "\n",
    "b = np.array([2, 1])\n",
    "bnd = igl.boundary_loop(F)\n",
    "points = np.take(V, bnd, axis=0)\n",
    "\n",
    "# Max distance between points\n",
    "D = sp.spatial.distance.pdist(points)\n",
    "D = sp.spatial.distance.squareform(D);\n",
    "N, [I_row, I_col] = np.nanmax(D), np.unravel_index( np.argmax(D), D.shape )\n",
    "\n",
    "# Random points\n",
    "#b[0] = bnd[0]\n",
    "#b[1] = bnd[int(bnd.size / 2 )]\n",
    "\n",
    "#maxdistance\n",
    "b[0] = bnd[I_row]\n",
    "b[1] = bnd[I_col]\n",
    "\n",
    "\n",
    "bc = np.array([[0.0, 0.0], [1.0, 0.0]])\n",
    "\n",
    "# LSCM parametrization\n",
    "_, LSCM_uv = igl.lscm(V, F, b, bc)   "
   ]
  },
  {
   "cell_type": "markdown",
   "metadata": {},
   "source": [
    "## Spektralno konformalno preslikavanje"
   ]
  },
  {
   "cell_type": "code",
   "execution_count": 12,
   "metadata": {},
   "outputs": [
    {
     "ename": "KeyboardInterrupt",
     "evalue": "",
     "output_type": "error",
     "traceback": [
      "\u001b[1;31m---------------------------------------------------------------------------\u001b[0m",
      "\u001b[1;31mKeyboardInterrupt\u001b[0m                         Traceback (most recent call last)",
      "\u001b[1;32m<ipython-input-12-9834c70a1bb3>\u001b[0m in \u001b[0;36m<module>\u001b[1;34m\u001b[0m\n\u001b[0;32m     23\u001b[0m \u001b[0mA\u001b[0m \u001b[1;33m=\u001b[0m \u001b[0migl\u001b[0m\u001b[1;33m.\u001b[0m\u001b[0mvector_area_matrix\u001b[0m\u001b[1;33m(\u001b[0m\u001b[0mF\u001b[0m\u001b[1;33m)\u001b[0m\u001b[1;33m\u001b[0m\u001b[1;33m\u001b[0m\u001b[0m\n\u001b[0;32m     24\u001b[0m \u001b[0mL\u001b[0m \u001b[1;33m=\u001b[0m \u001b[0migl\u001b[0m\u001b[1;33m.\u001b[0m\u001b[0mcotmatrix\u001b[0m\u001b[1;33m(\u001b[0m\u001b[0mV\u001b[0m\u001b[1;33m,\u001b[0m \u001b[0mF\u001b[0m\u001b[1;33m)\u001b[0m\u001b[1;33m\u001b[0m\u001b[1;33m\u001b[0m\u001b[0m\n\u001b[1;32m---> 25\u001b[1;33m \u001b[0mL_diag\u001b[0m \u001b[1;33m=\u001b[0m \u001b[0mblock_diag\u001b[0m\u001b[1;33m(\u001b[0m\u001b[0mL\u001b[0m\u001b[1;33m,\u001b[0m\u001b[0mL\u001b[0m\u001b[1;33m)\u001b[0m\u001b[1;33m\u001b[0m\u001b[1;33m\u001b[0m\u001b[0m\n\u001b[0m\u001b[0;32m     26\u001b[0m \u001b[0mL_diag_sparse\u001b[0m \u001b[1;33m=\u001b[0m \u001b[0mcsc_matrix\u001b[0m\u001b[1;33m(\u001b[0m\u001b[0mL_diag\u001b[0m\u001b[1;33m)\u001b[0m\u001b[1;33m\u001b[0m\u001b[1;33m\u001b[0m\u001b[0m\n\u001b[0;32m     27\u001b[0m \u001b[1;33m\u001b[0m\u001b[0m\n",
      "\u001b[1;32m<ipython-input-12-9834c70a1bb3>\u001b[0m in \u001b[0;36mblock_diag\u001b[1;34m(*arrs)\u001b[0m\n\u001b[0;32m     16\u001b[0m     \u001b[0mr\u001b[0m\u001b[1;33m,\u001b[0m \u001b[0mc\u001b[0m \u001b[1;33m=\u001b[0m \u001b[1;36m0\u001b[0m\u001b[1;33m,\u001b[0m \u001b[1;36m0\u001b[0m\u001b[1;33m\u001b[0m\u001b[1;33m\u001b[0m\u001b[0m\n\u001b[0;32m     17\u001b[0m     \u001b[1;32mfor\u001b[0m \u001b[0mi\u001b[0m\u001b[1;33m,\u001b[0m \u001b[1;33m(\u001b[0m\u001b[0mrr\u001b[0m\u001b[1;33m,\u001b[0m \u001b[0mcc\u001b[0m\u001b[1;33m)\u001b[0m \u001b[1;32min\u001b[0m \u001b[0menumerate\u001b[0m\u001b[1;33m(\u001b[0m\u001b[0mshapes\u001b[0m\u001b[1;33m)\u001b[0m\u001b[1;33m:\u001b[0m\u001b[1;33m\u001b[0m\u001b[1;33m\u001b[0m\u001b[0m\n\u001b[1;32m---> 18\u001b[1;33m         \u001b[0mout\u001b[0m\u001b[1;33m[\u001b[0m\u001b[0mr\u001b[0m\u001b[1;33m:\u001b[0m\u001b[0mr\u001b[0m \u001b[1;33m+\u001b[0m \u001b[0mrr\u001b[0m\u001b[1;33m,\u001b[0m \u001b[0mc\u001b[0m\u001b[1;33m:\u001b[0m\u001b[0mc\u001b[0m \u001b[1;33m+\u001b[0m \u001b[0mcc\u001b[0m\u001b[1;33m]\u001b[0m \u001b[1;33m=\u001b[0m \u001b[0marrs\u001b[0m\u001b[1;33m[\u001b[0m\u001b[0mi\u001b[0m\u001b[1;33m]\u001b[0m\u001b[1;33m\u001b[0m\u001b[1;33m\u001b[0m\u001b[0m\n\u001b[0m\u001b[0;32m     19\u001b[0m         \u001b[0mr\u001b[0m \u001b[1;33m+=\u001b[0m \u001b[0mrr\u001b[0m\u001b[1;33m\u001b[0m\u001b[1;33m\u001b[0m\u001b[0m\n\u001b[0;32m     20\u001b[0m         \u001b[0mc\u001b[0m \u001b[1;33m+=\u001b[0m \u001b[0mcc\u001b[0m\u001b[1;33m\u001b[0m\u001b[1;33m\u001b[0m\u001b[0m\n",
      "\u001b[1;31mKeyboardInterrupt\u001b[0m: "
     ]
    }
   ],
   "source": [
    "    def block_diag(*arrs):\n",
    "    \n",
    "        if arrs == ():\n",
    "            arrs = ([],)\n",
    "\n",
    "        arrs = [a.todense() for a in arrs]\n",
    "        arrs = [np.atleast_2d(a) for a in arrs]\n",
    "        bad_args = [k for k in range(len(arrs)) if arrs[k].ndim > 2]\n",
    "        if bad_args:\n",
    "            raise ValueError(\"arguments in the following positions have dimension \"\n",
    "                             \"greater than 2: %s\" % bad_args)\n",
    "        shapes = np.array([a.shape for a in arrs])\n",
    "        out_dtype = np.find_common_type([arr.dtype for arr in arrs], [])\n",
    "        out = np.zeros(np.sum(shapes, axis=0), dtype=out_dtype)\n",
    "\n",
    "        r, c = 0, 0\n",
    "        for i, (rr, cc) in enumerate(shapes):\n",
    "            out[r:r + rr, c:c + cc] = arrs[i]\n",
    "            r += rr\n",
    "            c += cc\n",
    "        return out\n",
    "\n",
    "    A = igl.vector_area_matrix(F)\n",
    "    L = igl.cotmatrix(V, F)\n",
    "    L_diag = block_diag(L,L)\n",
    "    L_diag_sparse = csc_matrix(L_diag)\n",
    "    \n",
    "    \n",
    "    Q = csc_matrix(L_diag_sparse) + csc_matrix(2 * A)\n",
    "    \n",
    "    M=igl.massmatrix(V, F, igl.MASSMATRIX_TYPE_VORONOI)\n",
    "\n",
    "    B = block_diag(M,M)\n",
    "    \n",
    "    # Bricks here\n",
    "    v, lamb = sla.eigs(Q, 3, csc_matrix(B), which='SM')\n",
    "    \n",
    "    U = np.zeros(V[0],2)\n",
    "    U[:,0] = v[:V[0].size,1]\n",
    "    U[:,1] = v[V[0].size:,1]\n",
    "    \n",
    "    u_1, s_1, v_1 = sla.svd(U * np.transpose(U), full_matrices=False)\n",
    "    \n",
    "    U = U*u_1\n"
   ]
  },
  {
   "cell_type": "markdown",
   "metadata": {},
   "source": [
    "## Vizualizacija rezultata"
   ]
  },
  {
   "cell_type": "code",
   "execution_count": 70,
   "metadata": {},
   "outputs": [
    {
     "data": {
      "application/vnd.jupyter.widget-view+json": {
       "model_id": "4643626262044130928c3b486bb51ae6",
       "version_major": 2,
       "version_minor": 0
      },
      "text/plain": [
       "Renderer(camera=PerspectiveCamera(children=(DirectionalLight(color='white', intensity=0.6, position=(1.9967555…"
      ]
     },
     "metadata": {},
     "output_type": "display_data"
    }
   ],
   "source": [
    "p = plot(V, F, return_plot=True)"
   ]
  },
  {
   "cell_type": "markdown",
   "metadata": {},
   "source": [
    "### Harmonijsko"
   ]
  },
  {
   "cell_type": "code",
   "execution_count": 26,
   "metadata": {},
   "outputs": [
    {
     "data": {
      "application/vnd.jupyter.widget-view+json": {
       "model_id": "cac7eb6b965a49729910cba94f69f908",
       "version_major": 2,
       "version_minor": 0
      },
      "text/plain": [
       "Renderer(camera=PerspectiveCamera(children=(DirectionalLight(color='white', intensity=0.6, position=(1.9967555…"
      ]
     },
     "metadata": {},
     "output_type": "display_data"
    },
    {
     "data": {
      "application/vnd.jupyter.widget-view+json": {
       "model_id": "85980822c7fb4b64a75c250b5725f15a",
       "version_major": 2,
       "version_minor": 0
      },
      "text/plain": [
       "interactive(children=(Dropdown(description='mode', options=('3D (originalan model)', '2D (parametrizacija)', '…"
      ]
     },
     "metadata": {},
     "output_type": "display_data"
    }
   ],
   "source": [
    "p0 = plot(V, F, return_plot=True)\n",
    "\n",
    "@interact(mode=['3D (originalan model)','2D (parametrizacija)', '2D (uv-izolinije)', '3D (s uv-izolinijama)'])\n",
    "def switch(mode):\n",
    "    if mode == \"3D (originalan model)\":\n",
    "        plot(V, F, shading={\"wireframe\": True, \"flat\": False}, plot=p0)\n",
    "    if mode == \"2D (parametrizacija)\":\n",
    "        plot(Harmonic_uv, F, shading={\"wireframe\": True}, plot=p0)\n",
    "    if mode == \"2D (uv-izolinije)\":\n",
    "        plot(Harmonic_uv, F, uv=Harmonic_uv, shading={\"wireframe\": False}, plot=p0)\n",
    "    if mode == \"3D (s uv-izolinijama)\":\n",
    "        plot(V, F, uv=Harmonic_uv, shading={\"wireframe\": False, \"flat\": False}, plot=p0)"
   ]
  },
  {
   "cell_type": "markdown",
   "metadata": {},
   "source": [
    "### Baricentrične koodrinate"
   ]
  },
  {
   "cell_type": "code",
   "execution_count": 31,
   "metadata": {},
   "outputs": [
    {
     "data": {
      "application/vnd.jupyter.widget-view+json": {
       "model_id": "ef51da342f1f4592a62ec8fa846f920f",
       "version_major": 2,
       "version_minor": 0
      },
      "text/plain": [
       "Renderer(camera=PerspectiveCamera(children=(DirectionalLight(color='white', intensity=0.6, position=(1.9967555…"
      ]
     },
     "metadata": {},
     "output_type": "display_data"
    },
    {
     "data": {
      "application/vnd.jupyter.widget-view+json": {
       "model_id": "65a23731a9284fd4821ba009b328efa9",
       "version_major": 2,
       "version_minor": 0
      },
      "text/plain": [
       "interactive(children=(Dropdown(description='mode', options=('3D (originalan model)', '2D (parametrizacija)', '…"
      ]
     },
     "metadata": {},
     "output_type": "display_data"
    }
   ],
   "source": [
    "p1 = plot(V, F, return_plot=True)\n",
    "\n",
    "@interact(mode=['3D (originalan model)','2D (parametrizacija)', '2D (uv-izolinije)', '3D (s uv-izolinijama)'])\n",
    "def switch(mode):\n",
    "    if mode == \"3D (originalan model)\":\n",
    "        plot(V, F, shading={\"wireframe\": True, \"flat\": False}, plot=p1)\n",
    "    if mode == \"2D (parametrizacija)\":\n",
    "        plot(Barycentric_uv, F, shading={\"wireframe\": True}, plot=p1)\n",
    "    if mode == \"2D (uv-izolinije)\":\n",
    "        plot(Barycentric_uv, F, uv=Barycentric_uv, shading={\"wireframe\": False}, plot=p1)\n",
    "    if mode == \"3D (s uv-izolinijama)\":\n",
    "        plot(V, F, uv=Barycentric_uv, shading={\"wireframe\": False, \"flat\": False}, plot=p1)"
   ]
  },
  {
   "cell_type": "markdown",
   "metadata": {},
   "source": [
    "### Konveksno preslikavanje srednje vrijednosti"
   ]
  },
  {
   "cell_type": "code",
   "execution_count": 72,
   "metadata": {},
   "outputs": [
    {
     "data": {
      "application/vnd.jupyter.widget-view+json": {
       "model_id": "da0f703a803d44b69c7fdd930864ab24",
       "version_major": 2,
       "version_minor": 0
      },
      "text/plain": [
       "Renderer(camera=PerspectiveCamera(children=(DirectionalLight(color='white', intensity=0.6, position=(1.9967555…"
      ]
     },
     "metadata": {},
     "output_type": "display_data"
    },
    {
     "data": {
      "application/vnd.jupyter.widget-view+json": {
       "model_id": "641d4490f99e4efa85eb817572538e17",
       "version_major": 2,
       "version_minor": 0
      },
      "text/plain": [
       "interactive(children=(Dropdown(description='mode', options=('3D (originalan model)', '2D (parametrizacija)', '…"
      ]
     },
     "metadata": {},
     "output_type": "display_data"
    }
   ],
   "source": [
    "p2 = plot(V, F, return_plot=True)\n",
    "\n",
    "@interact(mode=['3D (originalan model)','2D (parametrizacija)', '2D (uv-izolinije)', '3D (s uv-izolinijama)'])\n",
    "def switch(mode):\n",
    "    if mode == \"3D (originalan model)\":\n",
    "        plot(V, F, shading={\"wireframe\": True, \"flat\": False}, plot=p2)\n",
    "    if mode == \"2D (parametrizacija)\":\n",
    "        plot(Convex_uv, F, shading={\"wireframe\": True}, plot=p2)\n",
    "    if mode == \"2D (uv-izolinije)\":\n",
    "        plot(Convex_uv, F, uv=Convex_uv, shading={\"wireframe\": False}, plot=p2)\n",
    "    if mode == \"3D (s uv-izolinijama)\":\n",
    "        plot(V, F, uv=Convex_uv, shading={\"wireframe\": False, \"flat\": False}, plot=p2)"
   ]
  },
  {
   "cell_type": "markdown",
   "metadata": {},
   "source": [
    "### Konformalno preslikavanje najmanjih kvadrata"
   ]
  },
  {
   "cell_type": "code",
   "execution_count": 79,
   "metadata": {},
   "outputs": [
    {
     "data": {
      "application/vnd.jupyter.widget-view+json": {
       "model_id": "abb4ae7109d3483b93d7cc30522a21b2",
       "version_major": 2,
       "version_minor": 0
      },
      "text/plain": [
       "Renderer(camera=PerspectiveCamera(children=(DirectionalLight(color='white', intensity=0.6, position=(1.9967555…"
      ]
     },
     "metadata": {},
     "output_type": "display_data"
    },
    {
     "data": {
      "application/vnd.jupyter.widget-view+json": {
       "model_id": "ad11777ade744d82ab4ae2d5a23809f1",
       "version_major": 2,
       "version_minor": 0
      },
      "text/plain": [
       "interactive(children=(Dropdown(description='mode', options=('3D (originalan model)', '2D (parametrizacija)', '…"
      ]
     },
     "metadata": {},
     "output_type": "display_data"
    }
   ],
   "source": [
    "p3 = plot(V, F, return_plot=True)\n",
    "\n",
    "@interact(mode=['3D (originalan model)','2D (parametrizacija)', '2D (uv-izolinije)', '3D (s uv-izolinijama)'])\n",
    "def switch(mode):\n",
    "    if mode == \"3D (originalan model)\":\n",
    "        plot(V, F, shading={\"wireframe\": True, \"flat\": False}, plot=p3)\n",
    "    if mode == \"2D (parametrizacija)\":\n",
    "        plot(LSCM_uv, F, shading={\"wireframe\": True}, plot=p3)\n",
    "        p3.add_points( LSCM_uv[b[0]], shading={\"point_color\": \"red\", \"point_size\": .1})\n",
    "        p3.add_points( LSCM_uv[b[1]], shading={\"point_color\": \"red\", \"point_size\": .1})\n",
    "    if mode == \"2D (uv-izolinije)\":\n",
    "        plot(LSCM_uv, F, uv=LSCM_uv, shading={\"wireframe\": False}, plot=p3)\n",
    "        p3.add_points( LSCM_uv[b[0]], shading={\"point_color\": \"red\", \"point_size\": .1})\n",
    "        p3.add_points( LSCM_uv[b[1]], shading={\"point_color\": \"red\", \"point_size\": .1})\n",
    "    if mode == \"3D (s uv-izolinijama)\":\n",
    "        plot(V, F, uv=LSCM_uv, shading={\"wireframe\": False, \"flat\": False}, plot=p3)"
   ]
  },
  {
   "cell_type": "markdown",
   "metadata": {},
   "source": [
    "### Spektralno konformalno preslikavanje"
   ]
  },
  {
   "cell_type": "code",
   "execution_count": 24,
   "metadata": {},
   "outputs": [
    {
     "name": "stdout",
     "output_type": "stream",
     "text": [
      "SOON\n"
     ]
    }
   ],
   "source": [
    "print(\"SOON\")"
   ]
  },
  {
   "cell_type": "markdown",
   "metadata": {},
   "source": [
    "# Mjere"
   ]
  },
  {
   "cell_type": "markdown",
   "metadata": {},
   "source": [
    "### Flipped triangles"
   ]
  },
  {
   "cell_type": "code",
   "execution_count": 118,
   "metadata": {},
   "outputs": [
    {
     "data": {
      "text/plain": [
       "0"
      ]
     },
     "execution_count": 118,
     "metadata": {},
     "output_type": "execute_result"
    }
   ],
   "source": [
    "igl.flipped_triangles(Harmonic_uv,F).size"
   ]
  },
  {
   "cell_type": "markdown",
   "metadata": {},
   "source": [
    " $\\rightarrow$ nema okrenutih trokuta"
   ]
  },
  {
   "cell_type": "code",
   "execution_count": 119,
   "metadata": {},
   "outputs": [
    {
     "data": {
      "text/plain": [
       "0"
      ]
     },
     "execution_count": 119,
     "metadata": {},
     "output_type": "execute_result"
    }
   ],
   "source": [
    "igl.flipped_triangles(Barycentric_uv,F).size"
   ]
  },
  {
   "cell_type": "code",
   "execution_count": 120,
   "metadata": {},
   "outputs": [
    {
     "data": {
      "text/plain": [
       "0"
      ]
     },
     "execution_count": 120,
     "metadata": {},
     "output_type": "execute_result"
    }
   ],
   "source": [
    "igl.flipped_triangles(Convex_uv,F).size"
   ]
  },
  {
   "cell_type": "code",
   "execution_count": 121,
   "metadata": {},
   "outputs": [
    {
     "data": {
      "text/plain": [
       "0"
      ]
     },
     "execution_count": 121,
     "metadata": {},
     "output_type": "execute_result"
    }
   ],
   "source": [
    "igl.flipped_triangles(LSCM_uv,F).size"
   ]
  },
  {
   "cell_type": "markdown",
   "metadata": {},
   "source": [
    "### Kvaliteta trokuta"
   ]
  },
  {
   "cell_type": "code",
   "execution_count": 113,
   "metadata": {},
   "outputs": [],
   "source": [
    "def quality_fun(angles):\n",
    "    return 4*(np.sin(angles[0])*np.sin(angles[1])*np.sin(angles[2]))/(np.sin(angles[0]) + np.sin(angles[1]) + np.sin(angles[2]))\n",
    "\n",
    "def min_mean(angle_list):\n",
    "    results = []\n",
    "    for angles in angle_list:\n",
    "        results = np.append(results, quality_fun(angles))\n",
    "    return np.min(results), np.mean(results)"
   ]
  },
  {
   "cell_type": "code",
   "execution_count": 122,
   "metadata": {},
   "outputs": [
    {
     "name": "stdout",
     "output_type": "stream",
     "text": [
      "(0.0008613340789933834, 0.6766186732758929)\n"
     ]
    }
   ],
   "source": [
    "Harmonic_angles = igl.internal_angles(Harmonic_uv,F)\n",
    "\n",
    "print(min_mean(Harmonic_angles))"
   ]
  },
  {
   "cell_type": "code",
   "execution_count": 115,
   "metadata": {},
   "outputs": [
    {
     "name": "stdout",
     "output_type": "stream",
     "text": [
      "(0.375128256494023, 0.9846939499607019)\n"
     ]
    }
   ],
   "source": [
    "Barycentric_angles = igl.internal_angles(Barycentric_uv,F)\n",
    "\n",
    "print(min_mean(Barycentric_angles))"
   ]
  },
  {
   "cell_type": "code",
   "execution_count": 116,
   "metadata": {},
   "outputs": [
    {
     "name": "stdout",
     "output_type": "stream",
     "text": [
      "(0.00017903454576607587, 0.6929539891571794)\n"
     ]
    }
   ],
   "source": [
    "Convex_angles = igl.internal_angles(Convex_uv,F)\n",
    "\n",
    "print(min_mean(Convex_angles))"
   ]
  },
  {
   "cell_type": "code",
   "execution_count": 117,
   "metadata": {},
   "outputs": [
    {
     "name": "stdout",
     "output_type": "stream",
     "text": [
      "(0.0008294948403650462, 0.6761743895985035)\n"
     ]
    }
   ],
   "source": [
    "LSCM_angles = igl.internal_angles(LSCM_uv,F)\n",
    "\n",
    "print(min_mean(LSCM_angles))"
   ]
  }
 ],
 "metadata": {
  "kernelspec": {
   "display_name": "Python 3",
   "language": "python",
   "name": "python3"
  },
  "language_info": {
   "codemirror_mode": {
    "name": "ipython",
    "version": 3
   },
   "file_extension": ".py",
   "mimetype": "text/x-python",
   "name": "python",
   "nbconvert_exporter": "python",
   "pygments_lexer": "ipython3",
   "version": "3.7.6"
  }
 },
 "nbformat": 4,
 "nbformat_minor": 4
}
